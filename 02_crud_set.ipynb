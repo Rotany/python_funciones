{
 "cells": [
  {
   "cell_type": "code",
   "execution_count": 3,
   "metadata": {},
   "outputs": [
    {
     "name": "stdout",
     "output_type": "stream",
     "text": [
      "True\n",
      "False\n"
     ]
    }
   ],
   "source": [
    "set_countries = {'col', 'ecu', 'esp'}\n",
    "size = len(set_countries)\n",
    "print('col' in set_countries)\n",
    "print('pe' in set_countries)"
   ]
  },
  {
   "cell_type": "code",
   "execution_count": 9,
   "metadata": {},
   "outputs": [
    {
     "name": "stdout",
     "output_type": "stream",
     "text": [
      "{'esp', 'ecu', 'peru', 'col'}\n",
      "{'esp', 'ecu', 'peru', 'col'}\n",
      "['esp', 'ecu', 'peru', 'col']\n"
     ]
    }
   ],
   "source": [
    "set_countries.add('peru')\n",
    "print(set_countries)\n",
    "set_countries.add('peru')\n",
    "print(set_countries)\n",
    "unique_countries = list(set_countries)\n",
    "print(unique_countries)"
   ]
  },
  {
   "cell_type": "code",
   "execution_count": 16,
   "metadata": {},
   "outputs": [
    {
     "name": "stdout",
     "output_type": "stream",
     "text": [
      "{'ecu', 'h', 'a', 'ven', 'e', 'c', 'v', 'r', 'i', 'arg', 'col', 'n', 'esp', 'chi', 'peru', 'g'}\n"
     ]
    }
   ],
   "source": [
    "set_countries.update({'ven','arg'})\n",
    "print(set_countries)"
   ]
  },
  {
   "cell_type": "code",
   "execution_count": 18,
   "metadata": {},
   "outputs": [
    {
     "name": "stdout",
     "output_type": "stream",
     "text": [
      "{'h', 'a', 'ven', 'e', 'c', 'v', 'r', 'i', 'arg', 'col', 'n', 'esp', 'chi', 'peru', 'g'}\n"
     ]
    }
   ],
   "source": [
    "set_countries.remove('ecu')\n",
    "print(set_countries)"
   ]
  },
  {
   "cell_type": "code",
   "execution_count": 29,
   "metadata": {},
   "outputs": [
    {
     "name": "stdout",
     "output_type": "stream",
     "text": [
      "{'ven', 'arg', 'col', 'esp', 'chi', 'peru'}\n"
     ]
    }
   ],
   "source": [
    "set_countries.remove('g')\n",
    "print(set_countries)"
   ]
  },
  {
   "cell_type": "code",
   "execution_count": 30,
   "metadata": {},
   "outputs": [
    {
     "name": "stdout",
     "output_type": "stream",
     "text": [
      "{'ven', 'col', 'esp', 'chi', 'peru'}\n"
     ]
    }
   ],
   "source": [
    "set_countries.remove('arg')\n",
    "print(set_countries)"
   ]
  },
  {
   "cell_type": "code",
   "execution_count": 32,
   "metadata": {},
   "outputs": [
    {
     "name": "stdout",
     "output_type": "stream",
     "text": [
      "set()\n",
      "0\n"
     ]
    }
   ],
   "source": [
    "set_countries.clear()\n",
    "print(set_countries)\n",
    "print(len(set_countries))"
   ]
  }
 ],
 "metadata": {
  "kernelspec": {
   "display_name": "venv",
   "language": "python",
   "name": "python3"
  },
  "language_info": {
   "codemirror_mode": {
    "name": "ipython",
    "version": 3
   },
   "file_extension": ".py",
   "mimetype": "text/x-python",
   "name": "python",
   "nbconvert_exporter": "python",
   "pygments_lexer": "ipython3",
   "version": "3.11.4"
  }
 },
 "nbformat": 4,
 "nbformat_minor": 2
}
