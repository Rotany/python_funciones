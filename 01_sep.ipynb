{
 "cells": [
  {
   "cell_type": "code",
   "execution_count": 1,
   "metadata": {},
   "outputs": [
    {
     "name": "stdout",
     "output_type": "stream",
     "text": [
      "{'esp', 'col', 'ecu'}\n"
     ]
    }
   ],
   "source": [
    "set_countries = {'col', 'ecu', 'esp'}\n",
    "print(set_countries)"
   ]
  },
  {
   "cell_type": "code",
   "execution_count": 4,
   "metadata": {},
   "outputs": [
    {
     "name": "stdout",
     "output_type": "stream",
     "text": [
      "{'esp', 'col', 'bol', 'ecu'}\n",
      "<class 'set'>\n"
     ]
    }
   ],
   "source": [
    "set_countries = {'col', 'ecu','esp','ecu', 'bol'}\n",
    "print(set_countries)\n",
    "print(type(set_countries))"
   ]
  },
  {
   "cell_type": "code",
   "execution_count": 6,
   "metadata": {},
   "outputs": [
    {
     "name": "stdout",
     "output_type": "stream",
     "text": [
      "{1, 2, 50, 7, 40}\n"
     ]
    }
   ],
   "source": [
    "set_numbers = {1, 2, 50 , 7 , 40}\n",
    "print(set_numbers)"
   ]
  },
  {
   "cell_type": "code",
   "execution_count": 7,
   "metadata": {},
   "outputs": [
    {
     "name": "stdout",
     "output_type": "stream",
     "text": [
      "{'amiga', 1, 'hola', '2'}\n"
     ]
    }
   ],
   "source": [
    "set_types = {1, 'hola','2', 'amiga'}\n",
    "print(set_types)"
   ]
  },
  {
   "cell_type": "code",
   "execution_count": 8,
   "metadata": {},
   "outputs": [
    {
     "name": "stdout",
     "output_type": "stream",
     "text": [
      "{'l', 'o', 'a', 'h'}\n"
     ]
    }
   ],
   "source": [
    "set_from_string = set('hola')\n",
    "print(set_from_string)"
   ]
  },
  {
   "cell_type": "code",
   "execution_count": 10,
   "metadata": {},
   "outputs": [
    {
     "name": "stdout",
     "output_type": "stream",
     "text": [
      "{'abc', 'cbv', 'as'}\n"
     ]
    }
   ],
   "source": [
    "set_from_tupla = set(('abc', 'cbv','as', 'abc'))\n",
    "print(set_from_tupla)"
   ]
  },
  {
   "cell_type": "code",
   "execution_count": 18,
   "metadata": {},
   "outputs": [
    {
     "name": "stdout",
     "output_type": "stream",
     "text": [
      "{1, 2, 3, 4}\n",
      "[1, 2, 3, 4]\n"
     ]
    }
   ],
   "source": [
    "numbers = [1, 2, 2 ,3,4,1,3]\n",
    "set_numbers = set(numbers)\n",
    "print(set_numbers)\n",
    "unique_numbers = list(set_numbers)\n",
    "print(unique_numbers)\n"
   ]
  },
  {
   "cell_type": "markdown",
   "metadata": {},
   "source": []
  }
 ],
 "metadata": {
  "kernelspec": {
   "display_name": "venv",
   "language": "python",
   "name": "python3"
  },
  "language_info": {
   "codemirror_mode": {
    "name": "ipython",
    "version": 3
   },
   "file_extension": ".py",
   "mimetype": "text/x-python",
   "name": "python",
   "nbconvert_exporter": "python",
   "pygments_lexer": "ipython3",
   "version": "3.11.4"
  }
 },
 "nbformat": 4,
 "nbformat_minor": 2
}
