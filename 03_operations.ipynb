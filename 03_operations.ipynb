{
 "cells": [
  {
   "cell_type": "code",
   "execution_count": 10,
   "metadata": {},
   "outputs": [],
   "source": [
    "set_a = {'col', 'mex', 'bo'}\n",
    "set_b = {'bo', 'pe'}"
   ]
  },
  {
   "cell_type": "code",
   "execution_count": 11,
   "metadata": {},
   "outputs": [
    {
     "name": "stdout",
     "output_type": "stream",
     "text": [
      "{'mex', 'pe', 'bo', 'col'}\n",
      "{'mex', 'pe', 'bo', 'col'}\n",
      "{'bo'}\n",
      "{'bo'}\n",
      "{'mex', 'col'}\n",
      "{'mex', 'col'}\n",
      "{'mex', 'pe', 'col'}\n",
      "{'mex', 'pe', 'col'}\n"
     ]
    }
   ],
   "source": [
    "set_c = set_a.union(set_b)\n",
    "print(set_c)\n",
    "print(set_a | set_b)\n",
    "\n",
    "set_c = set_a.intersection(set_b)\n",
    "print(set_c)\n",
    "print(set_a & set_b)\n",
    "\n",
    "set_c = set_a.difference(set_b)\n",
    "print(set_c)\n",
    "print(set_a - set_b)\n",
    "\n",
    "set_c = set_a.symmetric_difference(set_b)\n",
    "print(set_c)\n",
    "print(set_a ^ set_b)"
   ]
  }
 ],
 "metadata": {
  "kernelspec": {
   "display_name": "venv",
   "language": "python",
   "name": "python3"
  },
  "language_info": {
   "codemirror_mode": {
    "name": "ipython",
    "version": 3
   },
   "file_extension": ".py",
   "mimetype": "text/x-python",
   "name": "python",
   "nbconvert_exporter": "python",
   "pygments_lexer": "ipython3",
   "version": "3.11.4"
  }
 },
 "nbformat": 4,
 "nbformat_minor": 2
}
