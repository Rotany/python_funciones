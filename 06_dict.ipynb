{
 "cells": [
  {
   "cell_type": "code",
   "execution_count": 2,
   "metadata": {},
   "outputs": [
    {
     "name": "stdout",
     "output_type": "stream",
     "text": [
      "{'col': 14, 'mex': 60, 'bol': 22, 'pe': 28}\n",
      "{'mex': 60}\n"
     ]
    }
   ],
   "source": [
    "import random\n",
    "countries = ['col', 'mex', 'bol', 'pe']\n",
    "\n",
    "population_v2 = {country: random.randint(1,100) for country in countries}\n",
    "print(population_v2)\n",
    "\n",
    "resul = {country: population for(country,population) in population_v2.items() if population > 50}\n",
    "print(resul)"
   ]
  },
  {
   "cell_type": "code",
   "execution_count": 31,
   "metadata": {},
   "outputs": [
    {
     "name": "stdout",
     "output_type": "stream",
     "text": [
      "[('Haru', 'Pastor'), ('Luk', 'Angora'), ('Agata', 'Persa')]\n",
      "{'Agata': 'Persa'}\n"
     ]
    }
   ],
   "source": [
    "nom_animals = {'Agata', 'Haru','Luk'}\n",
    "raza_animals = {'Angora','Persa','Pastor'}\n",
    "result= list(zip(nom_animals, raza_animals))\n",
    "print(result)\n",
    "result_3 = {nom: raza for(nom,raza) in zip(nom_animals,raza_animals)if raza == 'Persa'}\n",
    "print(result_3)"
   ]
  },
  {
   "cell_type": "code",
   "execution_count": 29,
   "metadata": {},
   "outputs": [
    {
     "name": "stdout",
     "output_type": "stream",
     "text": [
      "{'Haru': 4, 'Luk': 8, 'Agata': 10}\n",
      "{'Haru': 2, 'Luk': 2, 'Agata': 5}\n",
      "{'Haru': 2, 'Luk': 2}\n"
     ]
    }
   ],
   "source": [
    "import random\n",
    "animals = {'Agata', 'Haru','Luk'}\n",
    "age = {}\n",
    "for animal in animals:\n",
    "    age[animal]= random.randint(1,10)\n",
    "print(age)\n",
    "\n",
    "result = {animal: random.randint(1,10) for animal in animals}\n",
    "print(result)\n",
    "\n",
    "result_2 = {animal: age for(animal,age) in result.items() if age <3}\n",
    "print(result_2)\n",
    "\n"
   ]
  },
  {
   "cell_type": "code",
   "execution_count": 32,
   "metadata": {},
   "outputs": [
    {
     "name": "stdout",
     "output_type": "stream",
     "text": [
      "v1 => [16, 10, 34]\n",
      "v2 => [16, 10, 34]\n"
     ]
    }
   ],
   "source": [
    "numbers = [35, 16, 10, 34, 37, 25]\n",
    "\n",
    "even_numbers = []\n",
    "for number in numbers:\n",
    "  if number % 2 == 0:\n",
    "    even_numbers.append(number)\n",
    "print('v1 =>', even_numbers)\n",
    "\n",
    "even_numbers_v2 = [number for number in numbers if number % 2 ==0]\n",
    "print('v2 =>', even_numbers_v2)"
   ]
  }
 ],
 "metadata": {
  "kernelspec": {
   "display_name": "venv",
   "language": "python",
   "name": "python3"
  },
  "language_info": {
   "codemirror_mode": {
    "name": "ipython",
    "version": 3
   },
   "file_extension": ".py",
   "mimetype": "text/x-python",
   "name": "python",
   "nbconvert_exporter": "python",
   "pygments_lexer": "ipython3",
   "version": "3.11.4"
  }
 },
 "nbformat": 4,
 "nbformat_minor": 2
}
