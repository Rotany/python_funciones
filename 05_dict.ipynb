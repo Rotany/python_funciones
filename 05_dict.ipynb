{
 "cells": [
  {
   "cell_type": "code",
   "execution_count": 1,
   "metadata": {},
   "outputs": [
    {
     "name": "stdout",
     "output_type": "stream",
     "text": [
      "{1: 2, 2: 4, 3: 6, 4: 8, 5: 10, 6: 12, 7: 14, 8: 16, 9: 18, 10: 20}\n"
     ]
    }
   ],
   "source": [
    "dict = {}\n",
    "for i in range(1,11):\n",
    "    dict[i] = i*2\n",
    "print(dict)"
   ]
  },
  {
   "cell_type": "code",
   "execution_count": 2,
   "metadata": {},
   "outputs": [
    {
     "name": "stdout",
     "output_type": "stream",
     "text": [
      "{1: 2, 2: 4, 3: 6, 4: 8, 5: 10, 6: 12, 7: 14, 8: 16, 9: 18, 10: 20}\n"
     ]
    }
   ],
   "source": [
    "# haciendo el dictionary comprehension i * 2 for i in range(1,11):\n",
    "dict_v2 = {i: i * 2 for i in range(1,11) }\n",
    "print(dict_v2)    "
   ]
  },
  {
   "cell_type": "code",
   "execution_count": 6,
   "metadata": {},
   "outputs": [
    {
     "name": "stdout",
     "output_type": "stream",
     "text": [
      "{'col': 3, 'mex': 2, 'bol': 23, 'pe': 35}\n"
     ]
    }
   ],
   "source": [
    "import random\n",
    "countries = ['col', 'mex', 'bol', 'pe']\n",
    "population  = {}\n",
    "for country in countries:\n",
    "    population[country] = random.randint(1,100)\n",
    "print(population)\n"
   ]
  },
  {
   "cell_type": "code",
   "execution_count": 7,
   "metadata": {},
   "outputs": [
    {
     "name": "stdout",
     "output_type": "stream",
     "text": [
      "{'col': 92, 'mex': 5, 'bol': 60, 'pe': 68}\n"
     ]
    }
   ],
   "source": [
    "#haciendo el dict comprehension\n",
    "population_v2 = {country: random.randint(1,100) for country in countries}\n",
    "print(population_v2)"
   ]
  }
 ],
 "metadata": {
  "kernelspec": {
   "display_name": "venv",
   "language": "python",
   "name": "python3"
  },
  "language_info": {
   "codemirror_mode": {
    "name": "ipython",
    "version": 3
   },
   "file_extension": ".py",
   "mimetype": "text/x-python",
   "name": "python",
   "nbconvert_exporter": "python",
   "pygments_lexer": "ipython3",
   "version": "3.11.4"
  }
 },
 "nbformat": 4,
 "nbformat_minor": 2
}
