{
 "cells": [
  {
   "cell_type": "code",
   "execution_count": 15,
   "metadata": {},
   "outputs": [
    {
     "name": "stdout",
     "output_type": "stream",
     "text": [
      "11\n",
      "100\n"
     ]
    }
   ],
   "source": [
    "def suma (a,b):\n",
    "    print(a+b)\n",
    "suma(5,6)\n",
    "suma(20,80)"
   ]
  },
  {
   "cell_type": "code",
   "execution_count": 24,
   "metadata": {},
   "outputs": [
    {
     "name": "stdout",
     "output_type": "stream",
     "text": [
      "This is my day  This is my day  \n",
      "14\n",
      "7\n"
     ]
    }
   ],
   "source": [
    "def my_print(text):\n",
    "    print(text *2)\n",
    "my_print('This is my day  ' )\n",
    "suma(5,2)\n",
    "\n"
   ]
  },
  {
   "cell_type": "code",
   "execution_count": 19,
   "metadata": {},
   "outputs": [
    {
     "name": "stdout",
     "output_type": "stream",
     "text": [
      "22\n",
      "11\n",
      "200\n",
      "100\n"
     ]
    }
   ],
   "source": [
    "def suma (a,b):\n",
    "    my_print(a+b)\n",
    "    print(a+b)\n",
    "suma(5,6)\n",
    "suma(20,80)\n"
   ]
  },
  {
   "cell_type": "code",
   "execution_count": 25,
   "metadata": {},
   "outputs": [
    {
     "name": "stdout",
     "output_type": "stream",
     "text": [
      "128\n",
      "64\n"
     ]
    }
   ],
   "source": [
    "def resta (a,b):\n",
    "    my_print(a-b)\n",
    "    print(a-b)\n",
    "resta(85,21)"
   ]
  }
 ],
 "metadata": {
  "kernelspec": {
   "display_name": "venv",
   "language": "python",
   "name": "python3"
  },
  "language_info": {
   "codemirror_mode": {
    "name": "ipython",
    "version": 3
   },
   "file_extension": ".py",
   "mimetype": "text/x-python",
   "name": "python",
   "nbconvert_exporter": "python",
   "pygments_lexer": "ipython3",
   "version": "3.11.4"
  }
 },
 "nbformat": 4,
 "nbformat_minor": 2
}
